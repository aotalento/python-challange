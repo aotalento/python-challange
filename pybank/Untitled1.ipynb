{
 "cells": [
  {
   "cell_type": "code",
   "execution_count": 1,
   "metadata": {},
   "outputs": [
    {
     "name": "stdout",
     "output_type": "stream",
     "text": [
      "-----------------------------------------------\n",
      "              Financial Analysis\n",
      "-----------------------------------------------\n",
      "Total Months: 86\n",
      "Total Profits: $38382578\n",
      "Average Profit Change: $7803\n",
      "Greatest Increase in Profits:Feb-2012 ($1926159)\n",
      "Greatest Loss in Profits:Sep-2013($-2196167)\n"
     ]
    }
   ],
   "source": [
    "# import dependants\n",
    "import csv\n",
    "import os\n",
    "\n",
    "# add file path\n",
    "BankData = os.path.join(\"budget_data.csv\")\n",
    "\n",
    "# Set list variables\n",
    "Profits = []\n",
    "MonthlyChange = []\n",
    "Date = []\n",
    "\n",
    "# Set variables to zero\n",
    "MonthCount = 0\n",
    "TotalProfits = 0\n",
    "Change = 0\n",
    "StartingProfit = 0\n",
    "\n",
    "with open(BankData, newline = \"\") as csvfile:\n",
    "    csvreader = csv.reader(csvfile, delimiter = \",\")\n",
    "    csvheader = next(csvreader)\n",
    "    \n",
    "#    Count the months in the sheet \n",
    "    for row in csvreader:\n",
    "        MonthCount = MonthCount + 1\n",
    "        \n",
    "#       Set the date column\n",
    "        Date.append(row[0])\n",
    "\n",
    "#     Set the profits column\n",
    "        Profits.append(row[1])\n",
    "    \n",
    "#     Calculate total profits\n",
    "        TotalProfits = TotalProfits + int(row[1])\n",
    "    \n",
    "#     Calculate average change in profits\n",
    "        FinalProfit = int(row[1])\n",
    "        Monthly_Change= FinalProfit - StartingProfit\n",
    "        \n",
    "        MonthlyChange.append(Monthly_Change)\n",
    "        \n",
    "        Change = Change + Monthly_Change\n",
    "        StartingProfit = FinalProfit\n",
    "        \n",
    "        ProfitChanges = round((Change/MonthCount))\n",
    "        \n",
    "        GreatestIncrease = max(MonthlyChange)\n",
    "        IncreaseDate = Date[MonthlyChange.index(GreatestIncrease)]\n",
    "        GreatestLoss = min(MonthlyChange)\n",
    "        LossDate = Date[MonthlyChange.index(GreatestLoss)]\n",
    "        \n",
    "        \n",
    "    print(\"-----------------------------------------------\")\n",
    "    print(\"              Financial Analysis\")\n",
    "    print(\"-----------------------------------------------\")\n",
    "    print(\"Total Months: \" + str(MonthCount))\n",
    "    print(\"Total Profits: $\" + str(TotalProfits))\n",
    "    print(\"Average Profit Change: $\" + str(ProfitChanges))\n",
    "    print('Greatest Increase in Profits:' + str(IncreaseDate) +\" ($\" + str(GreatestIncrease) + \")\")\n",
    "    print('Greatest Loss in Profits:' + str(LossDate) + '($' + str(GreatestLoss) + ')')\n",
    "\n",
    "    \n",
    "with open('Financial_Analysis.txt', 'w') as text:\n",
    "    text.write(\"-----------------------------------------------\\n\")\n",
    "    text.write(\"              Financial Analysis\" + \"\\n\")\n",
    "    text.write(\"-----------------------------------------------\\n\")\n",
    "    text.write(\"Total Months: \" + str(MonthCount) + \"\\n\")\n",
    "    text.write(\"Total Profits: $\" + str(TotalProfits) + \"\\n\")\n",
    "    text.write(\"Average Profit Change: $\" +str(ProfitChanges) + \"\\n\")\n",
    "    text.write('Greatest Increase in Profits:' + str(IncreaseDate) +\" ($\" + str(GreatestIncrease) + \")\" + \"\\n\")\n",
    "    text.write('Greatest Loss in Profits:' + str(LossDate) + '($' + str(GreatestLoss) + ')' + \"\\n\")"
   ]
  },
  {
   "cell_type": "code",
   "execution_count": null,
   "metadata": {},
   "outputs": [],
   "source": []
  }
 ],
 "metadata": {
  "kernelspec": {
   "display_name": "Python 3",
   "language": "python",
   "name": "python3"
  },
  "language_info": {
   "codemirror_mode": {
    "name": "ipython",
    "version": 3
   },
   "file_extension": ".py",
   "mimetype": "text/x-python",
   "name": "python",
   "nbconvert_exporter": "python",
   "pygments_lexer": "ipython3",
   "version": "3.7.3"
  }
 },
 "nbformat": 4,
 "nbformat_minor": 2
}
